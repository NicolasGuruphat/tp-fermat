{
 "cells": [
  {
   "attachments": {},
   "cell_type": "markdown",
   "metadata": {},
   "source": [
    "# Petit TP noté\n",
    "\n",
    "*Par Gregory Moutote, Xan Maris, Mathis Poncet, Mohammed Dabouz, Vincent Duvivier, Mathéo Lange, Nicolas Guruphat, Mathéo Auer, Guillaume Grandy*\n",
    "## Exercice 1"
   ]
  },
  {
   "cell_type": "code",
   "execution_count": 1,
   "metadata": {},
   "outputs": [],
   "source": [
    "from random import randint\n",
    "\n",
    "def exp_mod(a: int, k: int, n: int) -> int:\n",
    "    \"\"\"Calculates a^k mod n\n",
    "\n",
    "    Args:\n",
    "        a (int): value corresponding to `a` in the calculation\n",
    "        k (int): value corresponding to `k` in the calculation\n",
    "        n (int): value corresponding to `n` in the calculation\n",
    "\n",
    "    Returns:\n",
    "        int: a^k mod n\n",
    "    \"\"\"\n",
    "    p = 1\n",
    "    while (k > 0):\n",
    "        if k % 2:\n",
    "            p = (p * a) % n\n",
    "        a = (a * a) % n\n",
    "        k = k // 2\n",
    "    return p\n",
    "\n",
    "def prima_fermat(a: int) -> bool:\n",
    "    \"\"\"Determines if a number is prime using Fermat's method\n",
    "\n",
    "    Args:\n",
    "        a (int): number to check the primality\n",
    "\n",
    "    Returns:\n",
    "        bool: is `a` prime\n",
    "    \"\"\"\n",
    "    return exp_mod(2, a - 1, a) == 1\n",
    "\n",
    "def gen_primary(size: int) -> int:\n",
    "    \"\"\"Generates a random prime number\n",
    "\n",
    "    Args:\n",
    "        size (int): size of the prime number\n",
    "\n",
    "    Returns:\n",
    "        int: prime number of size `size`\n",
    "    \"\"\"\n",
    "    borninf = pow(10, size - 2)\n",
    "    bornsup = pow(10, size - 1) - 1\n",
    "    prime = -1\n",
    "    while prime == -1:\n",
    "        rand_value = randint(borninf, bornsup)\n",
    "        rand_value = rand_value * 2 + 1\n",
    "        if rand_value % 3 == 0 or rand_value % 5 == 0 or rand_value % 7 == 0:\n",
    "            continue\n",
    "        if prima_fermat(rand_value):\n",
    "            prime = rand_value\n",
    "    return prime"
   ]
  },
  {
   "cell_type": "code",
   "execution_count": 2,
   "metadata": {},
   "outputs": [],
   "source": [
    "size = 100\n",
    "p = gen_primary(size)\n",
    "q = gen_primary(size)\n",
    "while p == q:\n",
    "    q = gen_primary(size)"
   ]
  },
  {
   "attachments": {},
   "cell_type": "markdown",
   "metadata": {},
   "source": [
    "## Exercice 2"
   ]
  },
  {
   "attachments": {},
   "cell_type": "markdown",
   "metadata": {},
   "source": [
    "$\\phi(n)=(p-1)(q-1)$ (car $p$ et $q$ sont premiers et que $n=pq$)"
   ]
  },
  {
   "attachments": {},
   "cell_type": "markdown",
   "metadata": {},
   "source": [
    "## Exercice 3"
   ]
  },
  {
   "attachments": {},
   "cell_type": "markdown",
   "metadata": {},
   "source": [
    "Le seul algo que nous avons trouvé est cette algorithme naïf"
   ]
  },
  {
   "cell_type": "code",
   "execution_count": 3,
   "metadata": {},
   "outputs": [],
   "source": [
    "from typing import Tuple\n",
    "def euclide_etendu(a: int, b: int) -> Tuple[int, int, int]:\n",
    "    \"\"\"Calculates the greater common divider and the Bezout coefficients\n",
    "\n",
    "    Args:\n",
    "        a (int): First value to find the GCD\n",
    "        b (int): Second value to find the GCD\n",
    "\n",
    "    Returns:\n",
    "        Tuple[int, int, int]: GCD, first coefficient of Bezout, second coefficient of Bezout (a * first coefficient of Bezout + b * second coefficient of Bezout = gcd(a,b))\n",
    "    \"\"\"\n",
    "    if not b:\n",
    "        return (a, 1, 0)\n",
    "    d, u, v = euclide_etendu(b, a % b)\n",
    "    return (d, v, u - (a // b) * v)\n",
    "\n",
    "def phi(p: int, q: int) -> int:\n",
    "    \"\"\"Calculates phi(pq) with p and q prime\n",
    "\n",
    "    Args:\n",
    "        p (int): first composant of pq\n",
    "        q (int): second composant of pq\n",
    "\n",
    "    Returns:\n",
    "        int: phi(pq)\n",
    "    \"\"\"\n",
    "    return (p-1)*(q-1)\n",
    "\n",
    "e = 3\n",
    "while euclide_etendu(phi(p, q),e)[0] != 1 :\n",
    "    e += 2 # pour ne pas tester les nombres pairs"
   ]
  },
  {
   "attachments": {},
   "cell_type": "markdown",
   "metadata": {},
   "source": [
    "## Exercice 4"
   ]
  },
  {
   "attachments": {},
   "cell_type": "markdown",
   "metadata": {},
   "source": [
    "Réflexion :  \n",
    "$x^e = a$   \n",
    "$x^{e^d} = a^d$  \n",
    "$x^{(e*d)} = a^d$  \n",
    "$x^1 = a^d$  \n",
    "On en déduit cet algorithme :  "
   ]
  },
  {
   "cell_type": "code",
   "execution_count": 4,
   "metadata": {},
   "outputs": [],
   "source": [
    "def inv_modulaire(x: int, n: int) -> int:\n",
    "    \"\"\"Calculates inverse of x in {Z/nZ}*\n",
    "\n",
    "    Args:\n",
    "        x (int): to find the inverse of\n",
    "        n (int): {Z/nZ}*\n",
    "\n",
    "    Returns:\n",
    "        int: inverse of x in {Z/nZ}*\n",
    "    \"\"\"\n",
    "    d, u, _ = euclide_etendu(x, n)\n",
    "    if d != 1:\n",
    "        return None\n",
    "    return u % n\n",
    "\n",
    "def solve(p: int, q: int, e: int, a: int) -> int:\n",
    "    \"\"\"Solves a = x^e\n",
    "\n",
    "    Args:\n",
    "        p (int): first composant of n\n",
    "        q (int): second composant of n\n",
    "        e (int): an inversible value in {Z/phi(n)Z}*\n",
    "        a (int): an inversible value in {Z/nZ}*\n",
    "\n",
    "    Returns:\n",
    "        int: calculated x\n",
    "    \"\"\"\n",
    "    # on cherche à résoudre cette equation : a = x^e\n",
    "    n=p*q\n",
    "    d = inv_modulaire(e) # donc d = e^-1\n",
    "    return exp_mod(a,d,n) # x = a^d%mod(n)"
   ]
  },
  {
   "attachments": {},
   "cell_type": "markdown",
   "metadata": {},
   "source": [
    "## Exercice 5"
   ]
  },
  {
   "cell_type": "code",
   "execution_count": 5,
   "metadata": {},
   "outputs": [],
   "source": [
    "f = e + 2\n",
    "while euclide_etendu(phi(p, q),f)[0] != 1 or euclide_etendu(f,e)[0] != 1 :\n",
    "    f += 2 # pour ne pas tester les nombres pairs"
   ]
  },
  {
   "attachments": {},
   "cell_type": "markdown",
   "metadata": {},
   "source": [
    "## Exercice 6"
   ]
  },
  {
   "cell_type": "code",
   "execution_count": 12,
   "metadata": {},
   "outputs": [
    {
     "name": "stdout",
     "output_type": "stream",
     "text": [
      "1\n"
     ]
    }
   ],
   "source": [
    "d, a, b = euclide_etendu(e,f)\n",
    "print((a * e + b * f) % phi(p, q))"
   ]
  },
  {
   "attachments": {},
   "cell_type": "markdown",
   "metadata": {},
   "source": [
    "## Exercice 7"
   ]
  },
  {
   "attachments": {},
   "cell_type": "markdown",
   "metadata": {},
   "source": [
    "$(x^e\\mod(n))^{a}\\mod(n)\\times(x^f\\mod(n))^b\\mod(n)\\mod(n) <=> x^{ea}\\times x^{fb}\\mod(n)$"
   ]
  },
  {
   "cell_type": "code",
   "execution_count": null,
   "metadata": {},
   "outputs": [],
   "source": [
    "n = p * q\n",
    "for x in range(1, n):\n",
    "    assert pow(pow(x,e,n),a,n)*pow(pow(x,f,n),b,n) % n == x"
   ]
  },
  {
   "attachments": {},
   "cell_type": "markdown",
   "metadata": {},
   "source": [
    "## Exercice 8"
   ]
  },
  {
   "attachments": {},
   "cell_type": "markdown",
   "metadata": {},
   "source": [
    "$\n",
    "x\\in\\{\\Z/n\\Z\\}\\newline\n",
    "e,f\\in\\{\\Z/\\phi(n)\\Z\\}^*\n",
    "$  \n",
    "On veut montrer $x^{ae+bf}=x$  \n",
    "On sait également que $ae+bf=1$(car a et b sont les coefficients de Bezout calculés précédemment)    \n",
    "Mais on déduit de $e,f\\in\\{\\Z/\\phi(n)\\Z\\}^*$ et $ae+bf=1$ que $ae+bf \\equiv k\\times\\phi(n) + 1 \\pmod{\\phi(n)}$ avec $k\\in\\Z$ (definition du modulo)  \n",
    "Donc $x^{ae+bf}=x^{k\\phi(n)+1}$  \n",
    "On a donc $x^{k\\phi(n)+1}=x^{k\\phi(n)}x$ qu'on peut écrire $(x^{\\phi(n)})^{k}x$  \n",
    "Qu'on peut simplifier en $(1)^{k}x$ d'après le théorème de Fermat  \n",
    "On en déduit que $x^{ae+bf}=(x^{\\phi(n)})^{k}x=(1)^{k}x=x$"
   ]
  }
 ],
 "metadata": {
  "kernelspec": {
   "display_name": "Python 3",
   "language": "python",
   "name": "python3"
  },
  "language_info": {
   "codemirror_mode": {
    "name": "ipython",
    "version": 3
   },
   "file_extension": ".py",
   "mimetype": "text/x-python",
   "name": "python",
   "nbconvert_exporter": "python",
   "pygments_lexer": "ipython3",
   "version": "3.11.3"
  },
  "orig_nbformat": 4
 },
 "nbformat": 4,
 "nbformat_minor": 2
}
