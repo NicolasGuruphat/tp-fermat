{
 "cells": [
  {
   "attachments": {},
   "cell_type": "markdown",
   "metadata": {},
   "source": [
    "# Petit TP noté\n",
    "\n",
    "*Par Gregory Moutote, Xan Maris, Mathis Poncet, Mohammed Dabouzz, Vincent Duvivier, Mathéo Lange, Nicolas Guruphat, Mathéo Auer* \n",
    "## Exercice 1"
   ]
  },
  {
   "cell_type": "code",
   "execution_count": null,
   "metadata": {},
   "outputs": [],
   "source": [
    "from random import randint\n",
    "def gen_primary():\n",
    "    x = randint(10^99, 10^100-1)\n",
    "    while not test_fermat(x):\n",
    "        x = randint(10^99, 10^100-1)\n",
    "    return x"
   ]
  },
  {
   "cell_type": "code",
   "execution_count": null,
   "metadata": {},
   "outputs": [],
   "source": [
    "p = gen_primary()\n",
    "q = gen_primary()\n",
    "while p == q:\n",
    "    q = gen_primary()"
   ]
  },
  {
   "attachments": {},
   "cell_type": "markdown",
   "metadata": {},
   "source": [
    "## Exercice 2"
   ]
  },
  {
   "attachments": {},
   "cell_type": "markdown",
   "metadata": {},
   "source": [
    "$\\phi(n)=(p-1)(q-1)$ (car $p$ et $q$ sont premiers)"
   ]
  },
  {
   "attachments": {},
   "cell_type": "markdown",
   "metadata": {},
   "source": [
    "## Exercice 3"
   ]
  },
  {
   "attachments": {},
   "cell_type": "markdown",
   "metadata": {},
   "source": [
    "Le seul algo que nous avons trouvé est cette algorithme naïf"
   ]
  },
  {
   "cell_type": "code",
   "execution_count": null,
   "metadata": {},
   "outputs": [],
   "source": [
    "e = 3\n",
    "while euclide(phi(n),e) != 1:\n",
    "    e += 2 # pour ne pas tester les nombres pairs"
   ]
  },
  {
   "attachments": {},
   "cell_type": "markdown",
   "metadata": {},
   "source": [
    "## Exercice 4"
   ]
  },
  {
   "attachments": {},
   "cell_type": "markdown",
   "metadata": {},
   "source": [
    "Réflexion :  \n",
    "$x^e = a$   \n",
    "$x^{e^d} = a^d$  \n",
    "$x^{(e*d)} = a^d$  \n",
    "$x^1 = a^d$  \n",
    "On en déduit cet algorithme :  "
   ]
  },
  {
   "cell_type": "code",
   "execution_count": null,
   "metadata": {},
   "outputs": [],
   "source": [
    "def solve(p, q, e, a):\n",
    "    # on cherche à résoudre cette equation : a = x^e\n",
    "    n=p*q\n",
    "    d = inverse_modulaire(e) # donc d = e^-1\n",
    "    return exp_modulaire(a,d,n) # x = a^d%mod(n)"
   ]
  },
  {
   "attachments": {},
   "cell_type": "markdown",
   "metadata": {},
   "source": [
    "## Exercice 5"
   ]
  },
  {
   "cell_type": "code",
   "execution_count": null,
   "metadata": {},
   "outputs": [],
   "source": [
    "f = e + 2\n",
    "while euclide(phi(n),f) != 1 or euclide(f,e) != 1 :\n",
    "    f += 2 # pour ne pas tester les nombres pairs"
   ]
  },
  {
   "attachments": {},
   "cell_type": "markdown",
   "metadata": {},
   "source": [
    "## Exercice 6"
   ]
  },
  {
   "attachments": {},
   "cell_type": "markdown",
   "metadata": {},
   "source": [
    "## Exercice 7"
   ]
  },
  {
   "attachments": {},
   "cell_type": "markdown",
   "metadata": {},
   "source": [
    "$(x^e\\mod(n))^{a}\\mod(n)\\times(x^f\\mod(n))^b\\mod(n)\\mod(n) <=> x^{ea}\\times x^{fb}\\mod(n)$"
   ]
  },
  {
   "cell_type": "code",
   "execution_count": null,
   "metadata": {},
   "outputs": [],
   "source": [
    "pow(pow(x,e,n),a,n)*pow(pow(x,f,n),b,n)"
   ]
  },
  {
   "attachments": {},
   "cell_type": "markdown",
   "metadata": {},
   "source": [
    "$\n",
    "x\\in\\{\\Z/n\\Z\\}\\newline\n",
    "e,f\\in\\{\\Z/\\phi(n)\\Z\\}^*\n",
    "$  \n",
    "On veut montrer $x^{ae+bf}=x$  \n",
    "On sait également que $ae+bf=1$(car a et b sont les coefficients de Bezout calculés précédemment)    \n",
    "Mais on déduit de $e,f\\in\\{\\Z/\\phi(n)\\Z\\}^*$ et $ae+bf=1$ que $ae+bf \\equiv k\\times\\phi(n) + 1 \\pmod{\\phi(n)}$ avec $k\\in\\Z$ (definition du modulo)  \n",
    "Donc $x^{ae+bf}=x^{k\\phi(n)+1}$  \n",
    "On a donc $x^{k\\phi(n)+1}=x^{k\\phi(n)}x$ qu'on peut écrire $(x^{\\phi(n)})^{k}x$  \n",
    "Qu'on peut simplifier en $(1)^{k}x$ d'après le théorème de Fermat  \n",
    "On en déduit que $x^{ae+bf}=(x^{\\phi(n)})^{k}x=(1)^{k}x=x$"
   ]
  }
 ],
 "metadata": {
  "language_info": {
   "name": "python"
  },
  "orig_nbformat": 4
 },
 "nbformat": 4,
 "nbformat_minor": 2
}
